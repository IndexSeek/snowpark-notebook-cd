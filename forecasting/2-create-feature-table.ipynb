{
 "cells": [
  {
   "attachments": {},
   "cell_type": "markdown",
   "metadata": {},
   "source": [
    "## Generate store information with empty hourly traffic for the next four weeks for forecasting. \n",
    "\n",
    "This notebook is continuing using the example described in [Building and deploying a time series forecast with Hex + Snowflake](https://quickstarts.snowflake.com/guide/hex/index.html#0). This entire example higlights how we can use Snowflake to perform parallel hyperparameter tuning forecasting foot traffic. Please take a look at Chase Romano's article [Parallel Hyperparameter tuning using Snowpark](https://medium.com/snowflake/parallel-hyperparameter-tuning-using-snowpark-53cdec2faf77) for more information.\n",
    "\n",
    "We will begin by establishing our Snowflake connection and Snowpark session. This demo assumes the user has access to the `SYSADMIN` role and a virtual warehouse named `COMPUTE_WH` exists and is available for usage. \n",
    "\n",
    "We're assuming the tables `CALENDAR_INFO` and `HOURLY_TRAFFIC` have already been created and populated with data based on the [1-data-ingestion.ipynb](1-data-ingestion.ipynb) notebook in this repository."
   ]
  },
  {
   "cell_type": "code",
   "execution_count": null,
   "metadata": {},
   "outputs": [],
   "source": [
    "import os\n",
    "\n",
    "import pandas as pd\n",
    "import snowflake.snowpark.functions as F\n",
    "import snowflake.snowpark.types as T\n",
    "from snowflake.snowpark import Session\n",
    "\n",
    "connection_params = {\n",
    "    \"account\": os.environ.get(\"SNOWFLAKE_ACCOUNT\"),\n",
    "    \"user\": os.environ.get(\"SNOWFLAKE_USER\"),\n",
    "    \"password\": os.environ.get(\"SNOWFLAKE_PASSWORD\"),\n",
    "    \"database\": os.environ.get(\"SNOWFLAKE_DATABASE\"),\n",
    "    \"schema\": os.environ.get(\"SNOWFLAKE_SCHEMA\"),\n",
    "    \"role\": \"SYSADMIN\",\n",
    "    \"warehouse\": \"COMPUTE_WH\",\n",
    "}\n",
    "\n",
    "session = Session.builder.configs(connection_params).create()"
   ]
  },
  {
   "attachments": {},
   "cell_type": "markdown",
   "metadata": {},
   "source": [
    "### Create a DataFrame with relevant historical data."
   ]
  },
  {
   "cell_type": "code",
   "execution_count": null,
   "metadata": {},
   "outputs": [],
   "source": [
    "store_hourly_info_df = session.table(\"HOURLY_TRAFFIC\")\n",
    "store_calendar_info_df = session.table(\"CALENDAR_INFO\")\n",
    "\n",
    "# Extract date and hour from the time stamp in Hourly traffic\n",
    "past = store_hourly_info_df.select(\n",
    "    \"TIME_POINTS\",\n",
    "    F.col(\"TIME_POINTS\").cast(T.DateType()).alias(\"DATE\"),\n",
    "    F.hour(F.col(\"TIME_POINTS\")).alias(\"HOUR\"),\n",
    "    \"STORE_ID\",\n",
    "    \"COLLEGE_TOWN\",\n",
    "    \"HOURLY_TRAFFIC\",\n",
    ")\n",
    "\n",
    "# Join the Calendar info table to the Hourly traffic table\n",
    "# Filter hour between 7 and 22 since the restaraunts are only open from 7am -> 10pm\n",
    "past_final = (\n",
    "    past.join(\n",
    "        store_calendar_info_df,\n",
    "        (store_calendar_info_df.col(\"CALENDAR_DATE\") == past.col(\"DATE\")),\n",
    "        \"left\",\n",
    "    )\n",
    "    .select(\n",
    "        F.col(\"TIME_POINTS\"),\n",
    "        F.col(\"HOUR\"),\n",
    "        \"STORE_ID\",\n",
    "        \"COLLEGE_TOWN\",\n",
    "        \"CALENDAR_WEEK_DAY_NBR\",\n",
    "        \"CALENDAR_MTH_DAY_NBR\",\n",
    "        \"CALENDAR_MTH\",\n",
    "        \"CALENDAR_YEAR\",\n",
    "        \"HOLIDAY_NAME\",\n",
    "        \"HOURLY_TRAFFIC\",\n",
    "    )\n",
    "    .filter(F.col(\"HOUR\").between(7, 22))\n",
    "    .na.fill({\"HOLIDAY_NAME\": \"No Holiday\"})\n",
    ")\n",
    "\n",
    "past_final.limit(10).toPandas()"
   ]
  },
  {
   "attachments": {},
   "cell_type": "markdown",
   "metadata": {},
   "source": [
    "### Create a column that has the next 672 hours (28 days) in datetime format."
   ]
  },
  {
   "cell_type": "code",
   "execution_count": null,
   "metadata": {},
   "outputs": [],
   "source": [
    "df_date = session.range(672).select(\n",
    "    F.dateadd(\"HOUR\", \"ID\", F.current_date()).as_(\"DATE\")\n",
    ")\n",
    "\n",
    "df_date = df_date.with_column(\"HOUR\", F.hour(df_date[\"DATE\"]))\n",
    "\n",
    "df_date = df_date.select(F.to_date(df_date[\"DATE\"]).as_(\"DATE\"), \"HOUR\").filter(\n",
    "    F.col(\"HOUR\").between(7, 22)\n",
    ")\n",
    "\n",
    "# Cross join to make sure each store gets a value for the next 4 weeks\n",
    "df_store = (\n",
    "    session.table(\"HOURLY_TRAFFIC\")\n",
    "    .select(\n",
    "        F.col(\"STORE_ID\").cast(\"string\").alias(\"STORE_ID\"),\n",
    "        F.col(\"COLLEGE_TOWN\").cast(\"string\").alias(\"COLLEGE_TOWN\"),\n",
    "    )\n",
    "    .distinct()\n",
    ")\n",
    "stores = df_date.cross_join(df_store)"
   ]
  },
  {
   "attachments": {},
   "cell_type": "markdown",
   "metadata": {},
   "source": [
    "### Add in Calendar Information to create the final future table."
   ]
  },
  {
   "cell_type": "code",
   "execution_count": null,
   "metadata": {},
   "outputs": [],
   "source": [
    "future_cal = (\n",
    "    session.table(\"CALENDAR_INFO\")\n",
    "    .select(\n",
    "        \"CALENDAR_DATE\",\n",
    "        \"CALENDAR_WEEK_DAY_NBR\",\n",
    "        \"CALENDAR_MTH_DAY_NBR\",\n",
    "        \"CALENDAR_MTH\",\n",
    "        \"CALENDAR_YEAR\",\n",
    "        \"HOLIDAY_NAME\",\n",
    "    )\n",
    "    .filter(\n",
    "        (F.col(\"CALENDAR_DATE\") >= F.current_date())\n",
    "        & (F.col(\"CALENDAR_DATE\") <= F.current_date() + 28)\n",
    "    )\n",
    ")\n",
    "\n",
    "future_cal = future_cal.na.fill({\"HOLIDAY_NAME\": \"No Holiday\"})\n",
    "\n",
    "# Join store info and calendar data\n",
    "future_df = stores.join(\n",
    "    future_cal, stores.col(\"DATE\") == future_cal.col(\"CALENDAR_DATE\"), \"right\"\n",
    ")\n",
    "future_df = future_df.drop(\"CALENDAR_DATE\")\n",
    "\n",
    "future_df = future_df.withColumn(\n",
    "    \"DATE_HOUR\", F.to_timestamp(F.dateadd(\"hour\", F.col(\"HOUR\"), F.col(\"DATE\")))\n",
    ")\n",
    "future_df = future_df.drop(\"DATE\")\n",
    "\n",
    "future_df = future_df.withColumn(\"HOURLY_TRAFFIC\", F.lit(0))\n",
    "\n",
    "future_df = future_df.select(\n",
    "    \"DATE_HOUR\",\n",
    "    \"HOUR\",\n",
    "    \"STORE_ID\",\n",
    "    \"COLLEGE_TOWN\",\n",
    "    \"CALENDAR_WEEK_DAY_NBR\",\n",
    "    \"CALENDAR_MTH_DAY_NBR\",\n",
    "    \"CALENDAR_MTH\",\n",
    "    \"CALENDAR_YEAR\",\n",
    "    \"HOLIDAY_NAME\",\n",
    "    \"HOURLY_TRAFFIC\",\n",
    ")\n",
    "\n",
    "future_df.limit(5).toPandas()"
   ]
  },
  {
   "attachments": {},
   "cell_type": "markdown",
   "metadata": {},
   "source": [
    "### Union the historical and future tables together and write the final features table to Snowflake."
   ]
  },
  {
   "cell_type": "code",
   "execution_count": null,
   "metadata": {},
   "outputs": [],
   "source": [
    "union_df = past_final.union(future_df).select(\n",
    "    \"TIME_POINTS\",\n",
    "    \"HOUR\",\n",
    "    F.cast(\"STORE_ID\", T.StringType()).alias(\"STORE_ID\"),\n",
    "    \"COLLEGE_TOWN\",\n",
    "    \"CALENDAR_WEEK_DAY_NBR\",\n",
    "    \"CALENDAR_MTH_DAY_NBR\",\n",
    "    \"CALENDAR_MTH\",\n",
    "    \"CALENDAR_YEAR\",\n",
    "    \"HOLIDAY_NAME\",\n",
    "    \"HOURLY_TRAFFIC\",\n",
    ")\n",
    "\n",
    "union_df.write.save_as_table(\"MODEL_FEATURES\", mode=\"overwrite\")"
   ]
  }
 ],
 "metadata": {
  "kernelspec": {
   "display_name": "venv",
   "language": "python",
   "name": "python3"
  },
  "language_info": {
   "codemirror_mode": {
    "name": "ipython",
    "version": 3
   },
   "file_extension": ".py",
   "mimetype": "text/x-python",
   "name": "python",
   "nbconvert_exporter": "python",
   "pygments_lexer": "ipython3",
   "version": "3.8.0"
  },
  "vscode": {
   "interpreter": {
    "hash": "2054dec0498b5c123877e19b450b0c397daa43145025323e8362f09b588247ab"
   }
  }
 },
 "nbformat": 4,
 "nbformat_minor": 2
}
